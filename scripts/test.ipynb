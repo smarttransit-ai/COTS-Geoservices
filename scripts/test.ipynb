{
 "cells": [
  {
   "cell_type": "code",
   "execution_count": null,
   "id": "3ccd9be5",
   "metadata": {},
   "outputs": [],
   "source": [
    "import requests\n",
    "import json\n",
    "\n",
    "\n",
    "osrm_url = 'http://localhost:5000'\n",
    "valhalla_url = 'http://localhost:8002'\n",
    "nominatim_url = 'http://localhost:8081'\n",
    "photon_url = 'http://localhost:2322'\n",
    "overpass_url = 'http://localhost:1234/api'\n",
    "# overpass_url = 'https://overpass-api.de/api'\n"
   ]
  },
  {
   "cell_type": "code",
   "execution_count": null,
   "id": "ade57504",
   "metadata": {},
   "outputs": [],
   "source": [
    "nashville_coords = (-86.7816, 36.1627)"
   ]
  },
  {
   "cell_type": "code",
   "execution_count": null,
   "id": "ea0f2ae0",
   "metadata": {},
   "outputs": [],
   "source": [
    "# OSRM EXAMPLE\n",
    "response = requests.get(f'{osrm_url}/route/v1/driving/{nashville_coords[0]},{nashville_coords[1]};{nashville_coords[0]+0.1},{nashville_coords[1]+0.1}?overview=false')\n",
    "print(json.dumps(response.json(), indent=2))"
   ]
  },
  {
   "cell_type": "code",
   "execution_count": null,
   "id": "8f80ab7b",
   "metadata": {},
   "outputs": [],
   "source": [
    "# VALHALLA EXAMPLE\n",
    "response = requests.post(f'{valhalla_url}/route', json={\n",
    "    \"locations\": [\n",
    "        {\"lat\": nashville_coords[1], \"lon\": nashville_coords[0]},\n",
    "        {\"lat\": nashville_coords[1]+0.1, \"lon\": nashville_coords[0]+0.1}\n",
    "    ],\n",
    "    \"costing\": \"auto\",\n",
    "    \"directions_options\": {\"units\": \"miles\"}\n",
    "})\n",
    "print(json.dumps(response.json(), indent=2))"
   ]
  },
  {
   "cell_type": "code",
   "execution_count": null,
   "id": "05321ac0",
   "metadata": {},
   "outputs": [],
   "source": [
    "# NOMINATIM EXAMPLE\n",
    "response = requests.get(f'{nominatim_url}/search', params={\n",
    "    'q': 'Nashville, TN',\n",
    "    'format': 'json'\n",
    "})\n",
    "print(json.dumps(response.json(), indent=2))"
   ]
  },
  {
   "cell_type": "code",
   "execution_count": null,
   "id": "01d91ad1",
   "metadata": {},
   "outputs": [],
   "source": [
    "# PHOTON EXAMPLE\n",
    "response = requests.get(f'{photon_url}/api', params={\n",
    "    'q': 'Nashv',\n",
    "    'limit': 1\n",
    "})\n",
    "print(json.dumps(response.json(), indent=2))"
   ]
  },
  {
   "cell_type": "code",
   "execution_count": null,
   "id": "a75854b0",
   "metadata": {},
   "outputs": [],
   "source": [
    "# OVERPASS EXAMPLE\n",
    "# (areas is broken)\n",
    "\n",
    "response = requests.post(overpass_url + '/interpreter', headers = {\"Connection\": \"close\", \"Content-Type\": \"text/plain; charset=UTF-8\"}, data='''\n",
    "[out:json][timeout:180];\n",
    "(\n",
    "  node[\"amenity\"=\"cafe\"](36.05,-87.0,36.34,-86.6);\n",
    "  way[\"amenity\"=\"cafe\"](36.05,-87.0,36.3,-86.6);\n",
    "  relation[\"amenity\"=\"cafe\"](36.05,-87.0,36.3,-86.6);\n",
    ");\n",
    "out center;\n",
    "''')\n",
    "print(json.dumps(response.json(), indent=2))\n",
    "\n"
   ]
  }
 ],
 "metadata": {
  "kernelspec": {
   "display_name": "test-docker (3.13.2)",
   "language": "python",
   "name": "python3"
  },
  "language_info": {
   "codemirror_mode": {
    "name": "ipython",
    "version": 3
   },
   "file_extension": ".py",
   "mimetype": "text/x-python",
   "name": "python",
   "nbconvert_exporter": "python",
   "pygments_lexer": "ipython3",
   "version": "3.13.2"
  }
 },
 "nbformat": 4,
 "nbformat_minor": 5
}
